{
 "cells": [
  {
   "cell_type": "markdown",
   "id": "owned-warehouse",
   "metadata": {
    "deletable": false,
    "editable": false,
    "nbgrader": {
     "cell_type": "markdown",
     "checksum": "a1d9019dac67f748ada3780e4049bc3d",
     "grade": false,
     "grade_id": "cell-aad42e6d21664d4a",
     "locked": true,
     "schema_version": 3,
     "solution": false,
     "task": false
    }
   },
   "source": [
    "Hooke's Law\n",
    "==========\n",
    "\n",
    "We are going to \"learn\" Hooke's law from data.  I have provided you\n",
    "with data from some experiments, where I attached a weight $x$ to a spring\n",
    "and measured the elongation $y$ of the spring.\n",
    "\n",
    "You should follow the machine learning procedure to train a linear model\n",
    "$$\n",
    "    \\hat y = f(x; \\theta) = \\theta x\n",
    "$$\n",
    "and validate it against the data.  You should follow the step-by-step\n",
    "procedure outlined in the lecture.\n",
    "\n",
    "Step 1: Get data\n",
    "---------------\n",
    "\n",
    "You should find a text file `spring.dat` in your directory.  This file\n",
    "has a set of rows, each row containing `x y` ($x$ and associated $y$\n",
    "value).\n",
    "\n",
    "Use numpy's `loadtxt` function to load that data as a matrix and then\n",
    "assign the first column to `x` and the second column to `y`."
   ]
  },
  {
   "cell_type": "code",
   "execution_count": 188,
   "id": "quality-logan",
   "metadata": {
    "tags": []
   },
   "outputs": [],
   "source": [
    "import numpy as np\n",
    "import matplotlib.pyplot as plt"
   ]
  },
  {
   "cell_type": "code",
   "execution_count": 189,
   "id": "uniform-service",
   "metadata": {
    "deletable": false,
    "nbgrader": {
     "cell_type": "code",
     "checksum": "bb68cf967a50a36d02234827c85b8913",
     "grade": false,
     "grade_id": "cell-2373414ea8b9e67d",
     "locked": false,
     "schema_version": 3,
     "solution": true,
     "task": false
    },
    "tags": []
   },
   "outputs": [],
   "source": [
    "# YOUR CODE HERE\n",
    "data = np.loadtxt(\"spring.dat\")\n",
    "x = data[:, 0]\n",
    "y = data[:, 1]"
   ]
  },
  {
   "cell_type": "code",
   "execution_count": 190,
   "id": "cloudy-string",
   "metadata": {
    "tags": []
   },
   "outputs": [
    {
     "data": {
      "text/plain": [
       "array([0.052, 0.052, 0.06 , 0.074, 0.083, 0.084, 0.087, 0.098, 0.103,\n",
       "       0.143, 0.15 , 0.154, 0.157, 0.166, 0.187, 0.192, 0.193, 0.203,\n",
       "       0.218, 0.234, 0.25 , 0.253, 0.255, 0.259, 0.261, 0.267, 0.291,\n",
       "       0.304, 0.31 , 0.315, 0.329, 0.344, 0.357, 0.361, 0.384, 0.384,\n",
       "       0.397, 0.406, 0.411, 0.416, 0.416, 0.431, 0.433, 0.437, 0.445,\n",
       "       0.446, 0.45 , 0.47 , 0.475, 0.478, 0.478, 0.478, 0.491, 0.491,\n",
       "       0.494, 0.507, 0.511, 0.512, 0.526, 0.548, 0.576, 0.589, 0.597,\n",
       "       0.598, 0.599, 0.611, 0.622, 0.635, 0.636, 0.645, 0.657, 0.666,\n",
       "       0.681, 0.706, 0.713, 0.716, 0.741, 0.742, 0.745, 0.746, 0.756,\n",
       "       0.76 , 0.796, 0.799, 0.821, 0.83 , 0.834, 0.839, 0.842, 0.857,\n",
       "       0.857, 0.87 , 0.873, 0.884, 0.912, 0.922, 0.93 , 0.947, 0.955,\n",
       "       0.994])"
      ]
     },
     "execution_count": 190,
     "metadata": {},
     "output_type": "execute_result"
    }
   ],
   "source": [
    "x"
   ]
  },
  {
   "cell_type": "code",
   "execution_count": 191,
   "id": "scientific-barcelona",
   "metadata": {
    "deletable": false,
    "editable": false,
    "nbgrader": {
     "cell_type": "code",
     "checksum": "e7a72d49abd42b4d6e0a12e99da24af9",
     "grade": true,
     "grade_id": "cell-3b7eb01d2554915d",
     "locked": true,
     "points": 1,
     "schema_version": 3,
     "solution": false,
     "task": false
    },
    "tags": []
   },
   "outputs": [],
   "source": [
    "assert (x, y) is not None\n",
    "assert x.shape == y.shape == (100,)\n",
    "np.testing.assert_allclose(x.sum(), 49.26, atol=1e-12, rtol=1e-12)\n",
    "np.testing.assert_allclose(y.sum(), 92.868096, atol=1e-12, rtol=1e-12)"
   ]
  },
  {
   "cell_type": "markdown",
   "id": "congressional-brain",
   "metadata": {},
   "source": [
    "Let's plot the data to get a feel:\n",
    "\n",
    "Make a plot of $y$ over $x$, but please **do not** connect\n",
    "the points using lines (you can just use a marker like `+` etc.\n",
    "as a plot style to not plot lines or alternatively use `pl.scatter`).\n",
    "\n",
    "Remember: plots have x and y axis labels and a title!"
   ]
  },
  {
   "cell_type": "code",
   "execution_count": 192,
   "id": "addressed-glory",
   "metadata": {
    "deletable": false,
    "nbgrader": {
     "cell_type": "code",
     "checksum": "50770c0de50a96798f933015bf64e6a6",
     "grade": true,
     "grade_id": "cell-b6d5429410770909",
     "locked": false,
     "points": 1,
     "schema_version": 3,
     "solution": true,
     "task": false
    },
    "tags": []
   },
   "outputs": [
    {
     "data": {
      "text/plain": [
       "Text(0, 0.5, 'spring elongation')"
      ]
     },
     "execution_count": 192,
     "metadata": {},
     "output_type": "execute_result"
    },
    {
     "data": {
      "image/png": "[encoded data removed]",
      "text/plain": [
       "<Figure size 640x480 with 1 Axes>"
      ]
     },
     "metadata": {},
     "output_type": "display_data"
    }
   ],
   "source": [
    "plt.scatter(x, y, marker=\"x\", c=\"k\")\n",
    "plt.title(\"Raw Data: spring.dat\")\n",
    "plt.xlabel(\"weight\")\n",
    "plt.ylabel(\"spring elongation\")"
   ]
  },
  {
   "cell_type": "markdown",
   "id": "sticky-information",
   "metadata": {
    "deletable": false,
    "editable": false,
    "nbgrader": {
     "cell_type": "markdown",
     "checksum": "48297a84392684d7bfbb39b094634146",
     "grade": false,
     "grade_id": "cell-874412d0d2b357bd",
     "locked": true,
     "schema_version": 3,
     "solution": false,
     "task": false
    }
   },
   "source": [
    "Step 2: Split data into training and validation sets\n",
    "--------------------------------------------------------------\n",
    "\n",
    "Partition your data into two, about equally large, sets:\n",
    "\n",
    " - a training set with `xtrain` and corresponding `ytrain`\n",
    " - a validation set with `xtest` and corresponding `ytest`\n",
    " \n",
    "To avoid biasing your results, it is important to do this\n",
    "**randomly**.  For this we are going to use a random number\n",
    "generator (see next line).\n",
    "\n",
    "The simplest way of splitting up the data is then the following:\n",
    "\n",
    " * for each data point, generate a random number between 0 and 1.\n",
    " If that number is greater than 0.5, put the corresponding `x`\n",
    " and `y` into the validation set, otherwise put it in the training\n",
    " set.  Be careful not to separate pairs of `x` and `y`."
   ]
  },
  {
   "cell_type": "code",
   "execution_count": 193,
   "id": "destroyed-volume",
   "metadata": {
    "tags": []
   },
   "outputs": [],
   "source": [
    "# Creates a new pseudo-random number generator\n",
    "random = np.random.default_rng(4711)"
   ]
  },
  {
   "cell_type": "code",
   "execution_count": 194,
   "id": "advised-ending",
   "metadata": {
    "tags": []
   },
   "outputs": [
    {
     "data": {
      "text/plain": [
       "0.21028203806552237"
      ]
     },
     "execution_count": 194,
     "metadata": {},
     "output_type": "execute_result"
    }
   ],
   "source": [
    "# Get a random number uniformly distributed between 0 and 1\n",
    "random.uniform()"
   ]
  },
  {
   "cell_type": "code",
   "execution_count": 195,
   "id": "sporting-professional",
   "metadata": {
    "tags": []
   },
   "outputs": [
    {
     "data": {
      "text/plain": [
       "0.19035669209741035"
      ]
     },
     "execution_count": 195,
     "metadata": {},
     "output_type": "execute_result"
    }
   ],
   "source": [
    "# Another random number\n",
    "random.uniform()"
   ]
  },
  {
   "cell_type": "code",
   "execution_count": 196,
   "id": "incomplete-installation",
   "metadata": {
    "deletable": false,
    "nbgrader": {
     "cell_type": "code",
     "checksum": "c53a09c4bc6a01585ab492130de85c9b",
     "grade": false,
     "grade_id": "cell-a13f1155d05deff6",
     "locked": false,
     "schema_version": 3,
     "solution": true,
     "task": false
    },
    "tags": []
   },
   "outputs": [],
   "source": [
    "# You should fill the variables xtest, ytest, xtrain, ytrain here\n",
    "# I know this next line is nasty but wanted to test using eval ;P\n",
    "xtest, xtrain, ytest, ytrain = eval(4*\"np.array([]),\")\n",
    "\n",
    "for xi, yi in zip(x, y):\n",
    "    if random.uniform() >= 0.5:\n",
    "        xtest = np.append(xtest, xi)\n",
    "        ytest = np.append(ytest, yi)\n",
    "    else:\n",
    "        xtrain = np.append(xtrain, xi)\n",
    "        ytrain = np.append(ytrain, yi)"
   ]
  },
  {
   "cell_type": "code",
   "execution_count": null,
   "id": "periodic-personal",
   "metadata": {
    "tags": []
   },
   "outputs": [],
   "source": []
  },
  {
   "cell_type": "code",
   "execution_count": 197,
   "id": "hydraulic-yorkshire",
   "metadata": {
    "deletable": false,
    "editable": false,
    "nbgrader": {
     "cell_type": "code",
     "checksum": "2786681a4b266b46afafd60ff1f5298b",
     "grade": true,
     "grade_id": "cell-9879cdaea17f22b3",
     "locked": true,
     "points": 2,
     "schema_version": 3,
     "solution": false,
     "task": false
    },
    "tags": []
   },
   "outputs": [],
   "source": [
    "assert (xtest, ytest, xtrain, ytrain) is not None\n",
    "assert xtest.size == ytest.size\n",
    "assert xtrain.size == ytrain.size\n",
    "assert xtest.size > 25 and xtest.size < 75\n",
    "\n",
    "dfull = np.sort(np.rec.fromarrays([x,y], names=\"x,y\"))\n",
    "dsplit = np.sort(np.rec.fromarrays(\n",
    "    [np.hstack([xtrain,xtest]), np.hstack([ytrain,ytest])],\n",
    "    names=\"x,y\"))\n",
    "np.testing.assert_allclose(\n",
    "    dfull[\"x\"], dsplit[\"x\"], err_msg='some x values are missing/incorrect')\n",
    "np.testing.assert_allclose(\n",
    "    dfull[\"y\"], dsplit[\"y\"], err_msg='some y values are missing/incorrect')\n",
    "del dfull, dsplit"
   ]
  },
  {
   "cell_type": "markdown",
   "id": "dedicated-swift",
   "metadata": {
    "deletable": false,
    "editable": false,
    "nbgrader": {
     "cell_type": "markdown",
     "checksum": "a758f1aa79bf9141fa6cdfcf39eaac18",
     "grade": false,
     "grade_id": "cell-57eebed718d6a4d9",
     "locked": true,
     "schema_version": 3,
     "solution": false,
     "task": false
    }
   },
   "source": [
    "Let's again plot the training and validation set to make sure we haven't biased either set in any way.\n",
    "\n",
    "You should modify the plot above to plot x and y values in the training set as a point cloud\n",
    "and (in another color) the x and y values in the validation set.\n",
    "\n",
    "Be sure to give each set of points a **label**, include a figure **title** and also show a **legend**.  You can\n",
    "do so with `pl.plot(..., label='some label text')` and `pl.legend()`."
   ]
  },
  {
   "cell_type": "code",
   "execution_count": 198,
   "id": "bottom-responsibility",
   "metadata": {
    "deletable": false,
    "nbgrader": {
     "cell_type": "code",
     "checksum": "09bfb47152aea332295080950705e7a0",
     "grade": true,
     "grade_id": "cell-c684f3284a9cc710",
     "locked": false,
     "points": 1,
     "schema_version": 3,
     "solution": true,
     "task": false
    },
    "tags": []
   },
   "outputs": [
    {
     "data": {
      "text/plain": [
       "<matplotlib.legend.Legend at 0x7f75d068b5e0>"
      ]
     },
     "execution_count": 198,
     "metadata": {},
     "output_type": "execute_result"
    },
    {
     "data": {
      "image/png": "[encoded data removed]",
      "text/plain": [
       "<Figure size 640x480 with 1 Axes>"
      ]
     },
     "metadata": {},
     "output_type": "display_data"
    }
   ],
   "source": [
    "plt.scatter(xtrain, ytrain, marker=\"x\", c=\"k\", label=\"training set\")\n",
    "plt.scatter(xtest, ytest, marker=\"x\", c=\"C1\", label=\"validation set\")\n",
    "\n",
    "plt.title(\"Splitting Validation & Training Data\")\n",
    "plt.xlabel(\"weight\")\n",
    "plt.ylabel(\"spring elongation\")\n",
    "\n",
    "plt.legend()"
   ]
  },
  {
   "cell_type": "code",
   "execution_count": null,
   "id": "north-antigua",
   "metadata": {},
   "outputs": [],
   "source": []
  },
  {
   "cell_type": "markdown",
   "id": "prescribed-boards",
   "metadata": {},
   "source": [
    "Step 3: Formulate and train linear model\n",
    "--------------------------\n",
    "\n",
    "Let us now formulate our model and train it on the data.\n",
    "First let us define a model function `fmodel` that depends on\n",
    "a feature vector `x` and some parameters `theta` and\n",
    "predicts a label `y`.\n",
    "\n",
    "(Hint: `a.T` gives the transpose of a numpy array `a`)"
   ]
  },
  {
   "cell_type": "code",
   "execution_count": 199,
   "id": "portuguese-contractor",
   "metadata": {
    "deletable": false,
    "nbgrader": {
     "cell_type": "code",
     "checksum": "4f1526c57254076dade85e4fcf38fb92",
     "grade": false,
     "grade_id": "cell-43da1dc719f62aad",
     "locked": false,
     "schema_version": 3,
     "solution": true,
     "task": false
    }
   },
   "outputs": [],
   "source": [
    "def fmodel(x, theta):\n",
    "    # assume x and theta are vectors and try to calc dot product\n",
    "    try:\n",
    "        return x @ theta\n",
    "    \n",
    "    # if this fails check if both are a scalar and then return product\n",
    "    except:\n",
    "        assert np.isscalar(x) and np.isscalar(theta)\n",
    "        return x * theta"
   ]
  },
  {
   "cell_type": "code",
   "execution_count": 200,
   "id": "labeled-struggle",
   "metadata": {
    "deletable": false,
    "editable": false,
    "nbgrader": {
     "cell_type": "code",
     "checksum": "82690cd32e05ce965698ef91e9a50f86",
     "grade": true,
     "grade_id": "cell-37d5287b286e5065",
     "locked": true,
     "points": 1,
     "schema_version": 3,
     "solution": false,
     "task": false
    }
   },
   "outputs": [],
   "source": [
    "assert fmodel(np.array([2]), np.array([8])) == 16\n",
    "assert fmodel(np.array([2,4]), np.array([8,2])) == 24\n",
    "assert fmodel(np.array([1.0,1.0,1.0]), np.array([8.0,2.0,5.0])) == 15.0"
   ]
  },
  {
   "cell_type": "code",
   "execution_count": null,
   "id": "pregnant-teddy",
   "metadata": {},
   "outputs": [],
   "source": []
  },
  {
   "cell_type": "markdown",
   "id": "eligible-greeting",
   "metadata": {
    "deletable": false,
    "editable": false,
    "nbgrader": {
     "cell_type": "markdown",
     "checksum": "c0faa86ae578079c0103197596d530bb",
     "grade": false,
     "grade_id": "cell-73a410820d621d78",
     "locked": true,
     "schema_version": 3,
     "solution": false,
     "task": false
    }
   },
   "source": [
    "Let us train the parameter `theta` now on the training set data.\n",
    "\n",
    "For this, first take the label vector of all the $y$ values in the training set\n",
    "and also create the design matrix $X$, i.e., a matrix where the rows correspond to\n",
    "observations and columns correspond to features in $x$.\n",
    "\n",
    "Then solve the **normal equations** to get the fitted value of theta.\n",
    "\n",
    "(Hint: `np.reshape`)"
   ]
  },
  {
   "cell_type": "code",
   "execution_count": 201,
   "id": "funky-pastor",
   "metadata": {
    "deletable": false,
    "nbgrader": {
     "cell_type": "code",
     "checksum": "9f48e3cb20d5fd1d5f4cdccd6f3fc8e4",
     "grade": false,
     "grade_id": "cell-0889990905d2379d",
     "locked": false,
     "schema_version": 3,
     "solution": true,
     "task": false
    }
   },
   "outputs": [],
   "source": [
    "# In this case design matrix is the same as the training data\n",
    "label_vector = ytrain\n",
    "X = xtrain\n",
    "\n",
    "# PROBLEM: If X is one dimensional X.T @ X spits out a scalar and not a 1x1 matrix. Additionally @ does not do scalar, matrix multiplication\n",
    "# thus we need to check if X.T @ X is a scalar and write a separate function from the general case just for this one\n",
    "XTX = X.T @ X\n",
    "\n",
    "# if XTX is a scalar\n",
    "if np.isscalar(XTX):\n",
    "    theta = (1 / XTX) * X.T @ label_vector\n",
    "\n",
    "# general case, except above exception\n",
    "else:\n",
    "    theta = np.linalg.inv(XTX) @ X.T @ label_vector"
   ]
  },
  {
   "cell_type": "code",
   "execution_count": 202,
   "id": "innovative-webster",
   "metadata": {},
   "outputs": [
    {
     "data": {
      "text/plain": [
       "1.9396296035003595"
      ]
     },
     "execution_count": 202,
     "metadata": {},
     "output_type": "execute_result"
    }
   ],
   "source": [
    "theta"
   ]
  },
  {
   "cell_type": "code",
   "execution_count": 203,
   "id": "marked-french",
   "metadata": {
    "deletable": false,
    "editable": false,
    "nbgrader": {
     "cell_type": "code",
     "checksum": "59a019260d2a048816229abf3f5f7525",
     "grade": true,
     "grade_id": "cell-8c88150e0f3e8283",
     "locked": true,
     "points": 2,
     "schema_version": 3,
     "solution": false,
     "task": false
    }
   },
   "outputs": [],
   "source": [
    "assert theta is not None\n",
    "assert theta > 1.2 and theta < 2.5\n"
   ]
  },
  {
   "cell_type": "code",
   "execution_count": null,
   "id": "increasing-announcement",
   "metadata": {},
   "outputs": [],
   "source": []
  },
  {
   "cell_type": "code",
   "execution_count": null,
   "id": "731b9dd2",
   "metadata": {},
   "outputs": [],
   "source": []
  },
  {
   "cell_type": "markdown",
   "id": "confidential-helicopter",
   "metadata": {},
   "source": [
    "Step 4: Validate results\n",
    "----------------------------\n",
    "Now that we have trained our model, we should check if the model gives\n",
    "useful results for the validation set.  **This is the crucial step in learning\n",
    "that separates it from pure model fitting**.\n",
    "\n",
    "First, since our data is so low-dimensional, we can actually plot the\n",
    "model prediction together with the validation set.  Modify the plot above\n",
    "to (1) only plot the points in the validation set and (2) plot a line\n",
    "$\\hat y = f(x)$ corresponding to the linear model. Do not forget\n",
    "labels, title and legend!\n",
    "\n",
    "Hint: you can use `np.linspace` to get a vector of equally spaced points."
   ]
  },
  {
   "cell_type": "code",
   "execution_count": 213,
   "id": "interracial-hygiene",
   "metadata": {
    "deletable": false,
    "nbgrader": {
     "cell_type": "code",
     "checksum": "52b531e89a6b9616c3df897ca689d948",
     "grade": true,
     "grade_id": "cell-22246ec659cc4695",
     "locked": false,
     "points": 1,
     "schema_version": 3,
     "solution": true,
     "task": false
    }
   },
   "outputs": [
    {
     "data": {
      "text/plain": [
       "<matplotlib.legend.Legend at 0x7f75d033f1f0>"
      ]
     },
     "execution_count": 213,
     "metadata": {},
     "output_type": "execute_result"
    },
    {
     "data": {
      "image/png": "[encoded data removed]",
      "text/plain": [
       "<Figure size 640x480 with 1 Axes>"
      ]
     },
     "metadata": {},
     "output_type": "display_data"
    }
   ],
   "source": [
    "plt.scatter(xtest, ytest, marker=\"x\", c=\"C1\", label=\"validation set\")\n",
    "\n",
    "x_hat = np.linspace(0, max(xtest), 3)\n",
    "y_hat = [fmodel(xi, theta) for xi in x_hat]\n",
    "plt.plot(x_hat, y_hat, label=r\"$\\hat{y} = f(x, \\theta)$\")\n",
    "\n",
    "plt.title(\"Validation Data compared to trained model\")\n",
    "plt.xlabel(\"weight\")\n",
    "plt.ylabel(\"spring elongation\")\n",
    "\n",
    "plt.legend()"
   ]
  },
  {
   "cell_type": "code",
   "execution_count": null,
   "id": "following-store",
   "metadata": {},
   "outputs": [],
   "source": []
  },
  {
   "cell_type": "markdown",
   "id": "portable-above",
   "metadata": {},
   "source": [
    "We are striving for a more quantitative approach: to do so, we are going to\n",
    "define the **loss function**, which takes a vector of `x` points, a vector\n",
    "of `y` points and the model parameter `theta`, and returns the loss:\n",
    "$$\n",
    "    \\operatorname{loss}(x,y,\\theta) = \\frac{1}{N'} \\sum_{n=1}^{N'} |y_n - f(x_n; \\theta)|^2\n",
    "$$"
   ]
  },
  {
   "cell_type": "code",
   "execution_count": 209,
   "id": "reported-nirvana",
   "metadata": {
    "deletable": false,
    "nbgrader": {
     "cell_type": "code",
     "checksum": "0a11d93a4c5d437845de537eb3f9fd22",
     "grade": false,
     "grade_id": "cell-2569b90aa480fbbf",
     "locked": false,
     "schema_version": 3,
     "solution": true,
     "task": false
    }
   },
   "outputs": [],
   "source": [
    "def loss(x, y, theta):\n",
    "    return 1 / len(x) * sum([np.abs(yi - fmodel(xi, theta)) ** 2 for xi, yi in zip(x, y)])"
   ]
  },
  {
   "cell_type": "code",
   "execution_count": null,
   "id": "accepting-reception",
   "metadata": {},
   "outputs": [],
   "source": []
  },
  {
   "cell_type": "code",
   "execution_count": 206,
   "id": "supported-mileage",
   "metadata": {
    "deletable": false,
    "editable": false,
    "nbgrader": {
     "cell_type": "code",
     "checksum": "fc5e3d2db8c54e8c1dc16987e12ea282",
     "grade": true,
     "grade_id": "cell-91438da114101c7b",
     "locked": true,
     "points": 1,
     "schema_version": 3,
     "solution": false,
     "task": false
    }
   },
   "outputs": [],
   "source": [
    "assert loss(xtrain, ytrain, theta) > 0\n"
   ]
  },
  {
   "cell_type": "code",
   "execution_count": null,
   "id": "taken-pearl",
   "metadata": {},
   "outputs": [],
   "source": []
  },
  {
   "cell_type": "markdown",
   "id": "nominated-method",
   "metadata": {},
   "source": [
    "Now we compute the loss for the training set and the validation set\n",
    "\n",
    "(called the \"in\"-error and the \"out\"-error)"
   ]
  },
  {
   "cell_type": "code",
   "execution_count": 207,
   "id": "large-sunset",
   "metadata": {},
   "outputs": [
    {
     "name": "stdout",
     "output_type": "stream",
     "text": [
      "Training ('in') error:    0.05635\n"
     ]
    }
   ],
   "source": [
    "E_in = loss(xtrain, ytrain, theta)\n",
    "print (\"Training ('in') error:    %.4g\" % E_in)"
   ]
  },
  {
   "cell_type": "code",
   "execution_count": 208,
   "id": "beautiful-toolbox",
   "metadata": {},
   "outputs": [
    {
     "name": "stdout",
     "output_type": "stream",
     "text": [
      "Validation ('out') error: 0.05321\n"
     ]
    }
   ],
   "source": [
    "E_out = loss(xtest, ytest, theta)\n",
    "print (\"Validation ('out') error: %.4g\" % E_out)"
   ]
  },
  {
   "cell_type": "markdown",
   "id": "institutional-navigator",
   "metadata": {
    "deletable": false,
    "editable": false,
    "nbgrader": {
     "cell_type": "markdown",
     "checksum": "138b9747c7fcdf0f92ddcd033e06bb8e",
     "grade": false,
     "grade_id": "cell-ec86f33e54a8c98c",
     "locked": true,
     "schema_version": 3,
     "solution": false,
     "task": false
    }
   },
   "source": [
    "Observe that these values are similar in magnitude.\n",
    "\n",
    " a) What does this mean for the \"learning procedure\"?\n",
    "\n",
    " b) What would we have to conclude if the validation loss had been much greater than the training loss?\n",
    " "
   ]
  },
  {
   "cell_type": "markdown",
   "id": "educational-consumer",
   "metadata": {
    "deletable": false,
    "nbgrader": {
     "cell_type": "markdown",
     "checksum": "9c9186d1bcb45df18dda58da1ec24946",
     "grade": true,
     "grade_id": "cell-69463a6c379a3179",
     "locked": false,
     "points": 2,
     "schema_version": 3,
     "solution": true,
     "task": false
    }
   },
   "source": [
    "YOUR ANSWER HERE"
   ]
  },
  {
   "cell_type": "markdown",
   "id": "f2b9aba6-c826-4389-afe5-b8a5b97c615f",
   "metadata": {},
   "source": [
    "a) If the 'out Error' is of similar magnitude to the 'in Error' then that means our model is equally good at describing the validation data as it is the training data. If we had overfit the training data then we would expect the ('in') error to be smaller than the ('out') error. Since this is not the case it indicates that the procedure worked very well and for the chosen model (linear with intercept through the origin) and the given data our fit is pretty much as good as it gets.\n",
    "\n",
    "b) If the validation loss had been much greater than the training loss it would either mean that we had overfit the model to the training data, or that we chose our training set poorly and in such a way that it was not representative of the entire data set."
   ]
  },
  {
   "cell_type": "markdown",
   "id": "emerging-immigration",
   "metadata": {},
   "source": [
    "Epilogue\n",
    "---------\n",
    "\n",
    "I lied to you.\n",
    "\n",
    "You did not actually fit Hooke's law.  You instead fitted a normalized expected salary $y$ of\n",
    "a job seeker based on a proprietary aptitude score $x$, calculated at the Department of Public Employment Service and Obsolescence Support (PESOS).\n",
    "\n",
    "The top brass at PESOS are quite impressed with the model and want it to form the basis of a more\n",
    "efficient distribution of funds to apt job seekers.  Reasons given:\n",
    "\n",
    " 1. The model is fair, because it does not rely on human input.\n",
    " \n",
    " 2. The model is based on cutting-edge technology, therefore it is trustworthy.\n",
    " \n",
    "Discuss (briefly, I have a meeting later with them)."
   ]
  },
  {
   "cell_type": "markdown",
   "id": "ready-replica",
   "metadata": {
    "deletable": false,
    "nbgrader": {
     "cell_type": "markdown",
     "checksum": "bf26d9b8a6de50e6ad6724ca8d2b00f2",
     "grade": true,
     "grade_id": "cell-d5fc2c1ea7ffa5c2",
     "locked": false,
     "points": 1,
     "schema_version": 3,
     "solution": true,
     "task": false
    }
   },
   "source": [
    "YOUR ANSWER HERE"
   ]
  },
  {
   "cell_type": "markdown",
   "id": "d1846dc7-9251-4805-a9e3-2e127ced0d36",
   "metadata": {},
   "source": [
    "1. There are a variety of arguments that can be made to counter the statement that \"the model is fair, because it does not rely on human input\"\n",
    ">+ Single shot split of dataset into validation and testing so testing data may not necessarily be representative of the whole set. (cross-validation methods could be used)\n",
    ">+ Small dataset, R^2 value could be worse with more data (so data not necessarily representative of entire population)\n",
    ">+ Proprietary aptitude test may not be fair, and may be designed with disregard for many possible biases (questions on test may not reflect real value the job seeker could provide).\n",
    ">+ The model does rely on human input, the scores of the aptitude tests in the training set are \"human input\"\n",
    "2. This linear regression is pretty much the simplest possible method of fitting a model to some data and has been invented over 200 years ago. Does not seem that cutting edge to me. Any cutting edge method would surely use datasets with a lot more independent variables (\"feautures\") and then also use more sophisticated methods of training the model rather than just a simple linear fit. And on top of that there are much more sophisticated methods of evaluating the performance of a model rather than just calculating a single loss value."
   ]
  }
 ],
 "metadata": {
  "kernelspec": {
   "display_name": "Python 3 (ipykernel)",
   "language": "python",
   "name": "python3"
  },
  "language_info": {
   "codemirror_mode": {
    "name": "ipython",
    "version": 3
   },
   "file_extension": ".py",
   "mimetype": "text/x-python",
   "name": "python",
   "nbconvert_exporter": "python",
   "pygments_lexer": "ipython3",
   "version": "3.10.9"
  }
 },
 "nbformat": 4,
 "nbformat_minor": 5
}
